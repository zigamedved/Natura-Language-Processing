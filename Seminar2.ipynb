{
 "cells": [
  {
   "cell_type": "markdown",
   "metadata": {},
   "source": [
    "## IS 2nd seminar ## \n",
    "For the second assignment in the Intelligent Systems course, our task was to create a program for the recognition of fake news articles.\n",
    "We will tackle this problem using machine learning (ML) algorithms. These are algorithms that can improve automatically through experience and by the use of data. They build a model based on sample data, known as training data, in order to make predictions or decisions without being explicitly programmed to do so. They are used in a wide variety of applications, such as in medicine, email filtering, speech recognition, and computer vision, where it is difficult or unfeasible to develop conventional algorithms to perform the needed tasks. \n",
    "This property makes ML the perfect tool for our work on the second assignment, as it would be impossible to hard-code a solution that would accurately detect all(or even most) fake news articles."
   ]
  },
  {
   "cell_type": "code",
   "execution_count": 1,
   "metadata": {},
   "outputs": [],
   "source": [
    "import pandas as pd\n",
    "import numpy as np\n",
    "import operator\n",
    "import emoji\n",
    "import unidecode\n",
    "import matplotlib.pyplot as plt\n",
    "%matplotlib inline\n",
    "import re\n",
    "from nltk.corpus import stopwords\n",
    "from nltk.stem.porter import PorterStemmer\n",
    "from sklearn.feature_extraction.text import TfidfVectorizer\n",
    "from sklearn.model_selection import train_test_split\n",
    "from sklearn.linear_model import LogisticRegression\n",
    "from sklearn.metrics import accuracy_score\n",
    "from sklearn.metrics import confusion_matrix,classification_report\n",
    "import time"
   ]
  },
  {
   "cell_type": "code",
   "execution_count": 2,
   "metadata": {
    "scrolled": true
   },
   "outputs": [
    {
     "name": "stderr",
     "output_type": "stream",
     "text": [
      "[nltk_data] Downloading package stopwords to\n",
      "[nltk_data]     C:\\Users\\Ziga\\AppData\\Roaming\\nltk_data...\n",
      "[nltk_data]   Package stopwords is already up-to-date!\n"
     ]
    },
    {
     "data": {
      "text/plain": [
       "True"
      ]
     },
     "execution_count": 2,
     "metadata": {},
     "output_type": "execute_result"
    }
   ],
   "source": [
    "import nltk\n",
    "nltk.download('stopwords')"
   ]
  },
  {
   "cell_type": "markdown",
   "metadata": {},
   "source": [
    "First we split the data into two separate sets, a training set and a test set. We must take care not to mix the two as that would invalidate the learning of our machine learning algorithms."
   ]
  },
  {
   "cell_type": "code",
   "execution_count": 3,
   "metadata": {
    "scrolled": true
   },
   "outputs": [],
   "source": [
    "test = pd.read_csv(\"C:\\\\Users\\\\Ziga\\\\Desktop\\\\IS-seminar\\\\#2\\\\test_data.tsv\",sep=\"\\t\", header=0)\n",
    "train = pd.read_csv(\"C:\\\\Users\\\\Ziga\\\\Desktop\\\\IS-seminar\\\\#2\\\\train_data.tsv\",sep=\"\\t\", header=0)"
   ]
  },
  {
   "cell_type": "markdown",
   "metadata": {},
   "source": [
    "**Check if data was read**"
   ]
  },
  {
   "cell_type": "code",
   "execution_count": 4,
   "metadata": {},
   "outputs": [],
   "source": [
    "#train.head(1)"
   ]
  },
  {
   "cell_type": "code",
   "execution_count": 5,
   "metadata": {},
   "outputs": [],
   "source": [
    "#test.head(1)"
   ]
  },
  {
   "cell_type": "markdown",
   "metadata": {},
   "source": [
    "**True vs Fake news ratio**"
   ]
  },
  {
   "cell_type": "code",
   "execution_count": 7,
   "metadata": {},
   "outputs": [],
   "source": [
    "#train['label'].value_counts()"
   ]
  },
  {
   "cell_type": "markdown",
   "metadata": {},
   "source": [
    "## Small data analysis ##"
   ]
  },
  {
   "cell_type": "markdown",
   "metadata": {},
   "source": [
    "To build a model we must first find out which attributes define the solution well. We check to see how well attributes like text length, presence of special characters, number of words used, specific word occurences and even emoji presence polarize the fake and real news."
   ]
  },
  {
   "cell_type": "markdown",
   "metadata": {},
   "source": [
    "**Length of news**"
   ]
  },
  {
   "cell_type": "code",
   "execution_count": 8,
   "metadata": {},
   "outputs": [],
   "source": [
    "length_true_news = train[train['label']==1]['text_a'].str.len()\n",
    "length_fake_news = train[train['label']==0]['text_a'].str.len()"
   ]
  },
  {
   "cell_type": "code",
   "execution_count": 9,
   "metadata": {},
   "outputs": [
    {
     "name": "stdout",
     "output_type": "stream",
     "text": [
      "Average length of real news 246.57851985559566\n",
      "Average length of fake news 171.77135260884015\n"
     ]
    }
   ],
   "source": [
    "# average length of real news\n",
    "print('Average length of real news '+str(length_true_news.mean()))\n",
    "\n",
    "# average length of fake news \n",
    "print('Average length of fake news '+str(length_fake_news.mean()))"
   ]
  },
  {
   "cell_type": "markdown",
   "metadata": {},
   "source": [
    "**Characters in sentence (checks for links too)**"
   ]
  },
  {
   "cell_type": "code",
   "execution_count": 10,
   "metadata": {},
   "outputs": [],
   "source": [
    "characters = ['!','?','@','#','&',';','$',':','http']\n",
    "train['symbols'] = train['text_a'].apply(lambda x: 1 if any(cht in x for cht in characters) else 0)"
   ]
  },
  {
   "cell_type": "markdown",
   "metadata": {},
   "source": [
    "**Splitting only on character presence**"
   ]
  },
  {
   "cell_type": "code",
   "execution_count": 11,
   "metadata": {},
   "outputs": [
    {
     "data": {
      "text/plain": [
       "1    4340\n",
       "0    1993\n",
       "Name: symbols, dtype: int64"
      ]
     },
     "execution_count": 11,
     "metadata": {},
     "output_type": "execute_result"
    }
   ],
   "source": [
    "train['symbols'].value_counts()"
   ]
  },
  {
   "cell_type": "code",
   "execution_count": 12,
   "metadata": {},
   "outputs": [],
   "source": [
    "train['l&s'] = ((train['label']==False) & (train['symbols']==True)).astype(int)"
   ]
  },
  {
   "cell_type": "markdown",
   "metadata": {},
   "source": [
    "**If label = 0 and symbol is present l&s = 1**"
   ]
  },
  {
   "cell_type": "code",
   "execution_count": 13,
   "metadata": {},
   "outputs": [
    {
     "data": {
      "text/html": [
       "<div>\n",
       "<style scoped>\n",
       "    .dataframe tbody tr th:only-of-type {\n",
       "        vertical-align: middle;\n",
       "    }\n",
       "\n",
       "    .dataframe tbody tr th {\n",
       "        vertical-align: top;\n",
       "    }\n",
       "\n",
       "    .dataframe thead th {\n",
       "        text-align: right;\n",
       "    }\n",
       "</style>\n",
       "<table border=\"1\" class=\"dataframe\">\n",
       "  <thead>\n",
       "    <tr style=\"text-align: right;\">\n",
       "      <th></th>\n",
       "      <th>label</th>\n",
       "      <th>text_a</th>\n",
       "      <th>symbols</th>\n",
       "      <th>l&amp;s</th>\n",
       "    </tr>\n",
       "  </thead>\n",
       "  <tbody>\n",
       "    <tr>\n",
       "      <th>0</th>\n",
       "      <td>1</td>\n",
       "      <td>#Coronavirus:  Prime  Minister  Boris  Johnson...</td>\n",
       "      <td>1</td>\n",
       "      <td>0</td>\n",
       "    </tr>\n",
       "    <tr>\n",
       "      <th>1</th>\n",
       "      <td>0</td>\n",
       "      <td>Global  coronavirus  deaths  exceed  800000  h...</td>\n",
       "      <td>1</td>\n",
       "      <td>1</td>\n",
       "    </tr>\n",
       "    <tr>\n",
       "      <th>2</th>\n",
       "      <td>1</td>\n",
       "      <td>The  US  has  the  highest  number  of  #COVID...</td>\n",
       "      <td>1</td>\n",
       "      <td>0</td>\n",
       "    </tr>\n",
       "    <tr>\n",
       "      <th>3</th>\n",
       "      <td>1</td>\n",
       "      <td>Many  more  cities  and  states  will  start  ...</td>\n",
       "      <td>1</td>\n",
       "      <td>0</td>\n",
       "    </tr>\n",
       "    <tr>\n",
       "      <th>4</th>\n",
       "      <td>1</td>\n",
       "      <td>#IndiaFightsCorona:  Japan  commits  Rs  3500 ...</td>\n",
       "      <td>1</td>\n",
       "      <td>0</td>\n",
       "    </tr>\n",
       "  </tbody>\n",
       "</table>\n",
       "</div>"
      ],
      "text/plain": [
       "   label                                             text_a  symbols  l&s\n",
       "0      1  #Coronavirus:  Prime  Minister  Boris  Johnson...        1    0\n",
       "1      0  Global  coronavirus  deaths  exceed  800000  h...        1    1\n",
       "2      1  The  US  has  the  highest  number  of  #COVID...        1    0\n",
       "3      1  Many  more  cities  and  states  will  start  ...        1    0\n",
       "4      1  #IndiaFightsCorona:  Japan  commits  Rs  3500 ...        1    0"
      ]
     },
     "execution_count": 13,
     "metadata": {},
     "output_type": "execute_result"
    }
   ],
   "source": [
    "train.head(5)"
   ]
  },
  {
   "cell_type": "code",
   "execution_count": 14,
   "metadata": {},
   "outputs": [
    {
     "data": {
      "text/plain": [
       "0    4887\n",
       "1    1446\n",
       "Name: l&s, dtype: int64"
      ]
     },
     "execution_count": 14,
     "metadata": {},
     "output_type": "execute_result"
    }
   ],
   "source": [
    "train['l&s'].value_counts()"
   ]
  },
  {
   "cell_type": "markdown",
   "metadata": {},
   "source": [
    "**Splitting on word count**"
   ]
  },
  {
   "cell_type": "code",
   "execution_count": 15,
   "metadata": {},
   "outputs": [],
   "source": [
    "train['word_num'] = train['text_a'].apply(lambda x: len(x.split()))"
   ]
  },
  {
   "cell_type": "code",
   "execution_count": 16,
   "metadata": {},
   "outputs": [
    {
     "data": {
      "text/html": [
       "<div>\n",
       "<style scoped>\n",
       "    .dataframe tbody tr th:only-of-type {\n",
       "        vertical-align: middle;\n",
       "    }\n",
       "\n",
       "    .dataframe tbody tr th {\n",
       "        vertical-align: top;\n",
       "    }\n",
       "\n",
       "    .dataframe thead th {\n",
       "        text-align: right;\n",
       "    }\n",
       "</style>\n",
       "<table border=\"1\" class=\"dataframe\">\n",
       "  <thead>\n",
       "    <tr style=\"text-align: right;\">\n",
       "      <th></th>\n",
       "      <th>label</th>\n",
       "      <th>text_a</th>\n",
       "      <th>symbols</th>\n",
       "      <th>l&amp;s</th>\n",
       "      <th>word_num</th>\n",
       "    </tr>\n",
       "  </thead>\n",
       "  <tbody>\n",
       "    <tr>\n",
       "      <th>0</th>\n",
       "      <td>1</td>\n",
       "      <td>#Coronavirus:  Prime  Minister  Boris  Johnson...</td>\n",
       "      <td>1</td>\n",
       "      <td>0</td>\n",
       "      <td>22</td>\n",
       "    </tr>\n",
       "    <tr>\n",
       "      <th>1</th>\n",
       "      <td>0</td>\n",
       "      <td>Global  coronavirus  deaths  exceed  800000  h...</td>\n",
       "      <td>1</td>\n",
       "      <td>1</td>\n",
       "      <td>6</td>\n",
       "    </tr>\n",
       "    <tr>\n",
       "      <th>2</th>\n",
       "      <td>1</td>\n",
       "      <td>The  US  has  the  highest  number  of  #COVID...</td>\n",
       "      <td>1</td>\n",
       "      <td>0</td>\n",
       "      <td>27</td>\n",
       "    </tr>\n",
       "    <tr>\n",
       "      <th>3</th>\n",
       "      <td>1</td>\n",
       "      <td>Many  more  cities  and  states  will  start  ...</td>\n",
       "      <td>1</td>\n",
       "      <td>0</td>\n",
       "      <td>24</td>\n",
       "    </tr>\n",
       "    <tr>\n",
       "      <th>4</th>\n",
       "      <td>1</td>\n",
       "      <td>#IndiaFightsCorona:  Japan  commits  Rs  3500 ...</td>\n",
       "      <td>1</td>\n",
       "      <td>0</td>\n",
       "      <td>30</td>\n",
       "    </tr>\n",
       "    <tr>\n",
       "      <th>5</th>\n",
       "      <td>0</td>\n",
       "      <td>doctors  and  nurses  in  medical  uniforms  l...</td>\n",
       "      <td>0</td>\n",
       "      <td>0</td>\n",
       "      <td>15</td>\n",
       "    </tr>\n",
       "    <tr>\n",
       "      <th>6</th>\n",
       "      <td>0</td>\n",
       "      <td>COVID-19:  Man  Insisting  That  He  Will  'Di...</td>\n",
       "      <td>1</td>\n",
       "      <td>1</td>\n",
       "      <td>13</td>\n",
       "    </tr>\n",
       "    <tr>\n",
       "      <th>7</th>\n",
       "      <td>1</td>\n",
       "      <td>There  are  37  people  isolating  in  the  Au...</td>\n",
       "      <td>0</td>\n",
       "      <td>0</td>\n",
       "      <td>27</td>\n",
       "    </tr>\n",
       "    <tr>\n",
       "      <th>8</th>\n",
       "      <td>1</td>\n",
       "      <td>Florida  also  had  a  major  problem  with  a...</td>\n",
       "      <td>1</td>\n",
       "      <td>0</td>\n",
       "      <td>21</td>\n",
       "    </tr>\n",
       "    <tr>\n",
       "      <th>9</th>\n",
       "      <td>0</td>\n",
       "      <td>Indian  business  tycoon  Ratan  Tata  said  t...</td>\n",
       "      <td>0</td>\n",
       "      <td>0</td>\n",
       "      <td>14</td>\n",
       "    </tr>\n",
       "  </tbody>\n",
       "</table>\n",
       "</div>"
      ],
      "text/plain": [
       "   label                                             text_a  symbols  l&s  \\\n",
       "0      1  #Coronavirus:  Prime  Minister  Boris  Johnson...        1    0   \n",
       "1      0  Global  coronavirus  deaths  exceed  800000  h...        1    1   \n",
       "2      1  The  US  has  the  highest  number  of  #COVID...        1    0   \n",
       "3      1  Many  more  cities  and  states  will  start  ...        1    0   \n",
       "4      1  #IndiaFightsCorona:  Japan  commits  Rs  3500 ...        1    0   \n",
       "5      0  doctors  and  nurses  in  medical  uniforms  l...        0    0   \n",
       "6      0  COVID-19:  Man  Insisting  That  He  Will  'Di...        1    1   \n",
       "7      1  There  are  37  people  isolating  in  the  Au...        0    0   \n",
       "8      1  Florida  also  had  a  major  problem  with  a...        1    0   \n",
       "9      0  Indian  business  tycoon  Ratan  Tata  said  t...        0    0   \n",
       "\n",
       "   word_num  \n",
       "0        22  \n",
       "1         6  \n",
       "2        27  \n",
       "3        24  \n",
       "4        30  \n",
       "5        15  \n",
       "6        13  \n",
       "7        27  \n",
       "8        21  \n",
       "9        14  "
      ]
     },
     "execution_count": 16,
     "metadata": {},
     "output_type": "execute_result"
    }
   ],
   "source": [
    "train.head(10)"
   ]
  },
  {
   "cell_type": "code",
   "execution_count": 17,
   "metadata": {},
   "outputs": [
    {
     "data": {
      "text/plain": [
       "27.4778146218222"
      ]
     },
     "execution_count": 17,
     "metadata": {},
     "output_type": "execute_result"
    }
   ],
   "source": [
    "train['word_num'].mean()"
   ]
  },
  {
   "cell_type": "code",
   "execution_count": 18,
   "metadata": {},
   "outputs": [
    {
     "name": "stdout",
     "output_type": "stream",
     "text": [
      "Average word count in fake news 22.708873379860417\n",
      "Average word count in real news 31.79482551143201\n"
     ]
    }
   ],
   "source": [
    "print('Average word count in fake news '+str(train[train['label']==0]['word_num'].mean()))\n",
    "print('Average word count in real news '+str(train[train['label']==1]['word_num'].mean()))"
   ]
  },
  {
   "cell_type": "markdown",
   "metadata": {},
   "source": [
    "**Word occurrence**"
   ]
  },
  {
   "cell_type": "code",
   "execution_count": 19,
   "metadata": {},
   "outputs": [],
   "source": [
    "def word_count(text):\n",
    "    count = dict()\n",
    "    for sentence in text:\n",
    "        words = sentence.split()\n",
    "        \n",
    "        for word in words:\n",
    "            if word in count:\n",
    "                count[word] += 1\n",
    "            else:\n",
    "                count[word] =1\n",
    "    return count"
   ]
  },
  {
   "cell_type": "code",
   "execution_count": 20,
   "metadata": {},
   "outputs": [],
   "source": [
    "text_fake = train[train['label']==0]['text_a']\n",
    "text_true = train[train['label']==1]['text_a']\n",
    "\n",
    "#fake_dict = word_count(text_fake)\n",
    "#true_dict = word_count(text_true)"
   ]
  },
  {
   "cell_type": "code",
   "execution_count": 21,
   "metadata": {},
   "outputs": [],
   "source": [
    "#dict( sorted(word_count(text_fake).items(), key=operator.itemgetter(1),reverse=True))"
   ]
  },
  {
   "cell_type": "code",
   "execution_count": 22,
   "metadata": {},
   "outputs": [],
   "source": [
    "#dict( sorted(word_count(text_true).items(), key=operator.itemgetter(1),reverse=True))"
   ]
  },
  {
   "cell_type": "markdown",
   "metadata": {},
   "source": [
    "**Emoji presence**"
   ]
  },
  {
   "cell_type": "code",
   "execution_count": 23,
   "metadata": {},
   "outputs": [],
   "source": [
    "def check(sentence):\n",
    "    for ch in sentence:\n",
    "        if emoji.get_emoji_regexp().search(ch):\n",
    "            return 1\n",
    "    return 0"
   ]
  },
  {
   "cell_type": "code",
   "execution_count": 24,
   "metadata": {},
   "outputs": [],
   "source": [
    "train['emoji'] = train['text_a'].apply(lambda x: check(x))"
   ]
  },
  {
   "cell_type": "code",
   "execution_count": 25,
   "metadata": {},
   "outputs": [
    {
     "data": {
      "text/html": [
       "<div>\n",
       "<style scoped>\n",
       "    .dataframe tbody tr th:only-of-type {\n",
       "        vertical-align: middle;\n",
       "    }\n",
       "\n",
       "    .dataframe tbody tr th {\n",
       "        vertical-align: top;\n",
       "    }\n",
       "\n",
       "    .dataframe thead th {\n",
       "        text-align: right;\n",
       "    }\n",
       "</style>\n",
       "<table border=\"1\" class=\"dataframe\">\n",
       "  <thead>\n",
       "    <tr style=\"text-align: right;\">\n",
       "      <th></th>\n",
       "      <th>label</th>\n",
       "      <th>text_a</th>\n",
       "      <th>symbols</th>\n",
       "      <th>l&amp;s</th>\n",
       "      <th>word_num</th>\n",
       "      <th>emoji</th>\n",
       "    </tr>\n",
       "  </thead>\n",
       "  <tbody>\n",
       "    <tr>\n",
       "      <th>0</th>\n",
       "      <td>1</td>\n",
       "      <td>#Coronavirus:  Prime  Minister  Boris  Johnson...</td>\n",
       "      <td>1</td>\n",
       "      <td>0</td>\n",
       "      <td>22</td>\n",
       "      <td>0</td>\n",
       "    </tr>\n",
       "    <tr>\n",
       "      <th>1</th>\n",
       "      <td>0</td>\n",
       "      <td>Global  coronavirus  deaths  exceed  800000  h...</td>\n",
       "      <td>1</td>\n",
       "      <td>1</td>\n",
       "      <td>6</td>\n",
       "      <td>0</td>\n",
       "    </tr>\n",
       "    <tr>\n",
       "      <th>2</th>\n",
       "      <td>1</td>\n",
       "      <td>The  US  has  the  highest  number  of  #COVID...</td>\n",
       "      <td>1</td>\n",
       "      <td>0</td>\n",
       "      <td>27</td>\n",
       "      <td>0</td>\n",
       "    </tr>\n",
       "    <tr>\n",
       "      <th>3</th>\n",
       "      <td>1</td>\n",
       "      <td>Many  more  cities  and  states  will  start  ...</td>\n",
       "      <td>1</td>\n",
       "      <td>0</td>\n",
       "      <td>24</td>\n",
       "      <td>0</td>\n",
       "    </tr>\n",
       "    <tr>\n",
       "      <th>4</th>\n",
       "      <td>1</td>\n",
       "      <td>#IndiaFightsCorona:  Japan  commits  Rs  3500 ...</td>\n",
       "      <td>1</td>\n",
       "      <td>0</td>\n",
       "      <td>30</td>\n",
       "      <td>0</td>\n",
       "    </tr>\n",
       "    <tr>\n",
       "      <th>5</th>\n",
       "      <td>0</td>\n",
       "      <td>doctors  and  nurses  in  medical  uniforms  l...</td>\n",
       "      <td>0</td>\n",
       "      <td>0</td>\n",
       "      <td>15</td>\n",
       "      <td>0</td>\n",
       "    </tr>\n",
       "    <tr>\n",
       "      <th>6</th>\n",
       "      <td>0</td>\n",
       "      <td>COVID-19:  Man  Insisting  That  He  Will  'Di...</td>\n",
       "      <td>1</td>\n",
       "      <td>1</td>\n",
       "      <td>13</td>\n",
       "      <td>0</td>\n",
       "    </tr>\n",
       "    <tr>\n",
       "      <th>7</th>\n",
       "      <td>1</td>\n",
       "      <td>There  are  37  people  isolating  in  the  Au...</td>\n",
       "      <td>0</td>\n",
       "      <td>0</td>\n",
       "      <td>27</td>\n",
       "      <td>0</td>\n",
       "    </tr>\n",
       "    <tr>\n",
       "      <th>8</th>\n",
       "      <td>1</td>\n",
       "      <td>Florida  also  had  a  major  problem  with  a...</td>\n",
       "      <td>1</td>\n",
       "      <td>0</td>\n",
       "      <td>21</td>\n",
       "      <td>0</td>\n",
       "    </tr>\n",
       "    <tr>\n",
       "      <th>9</th>\n",
       "      <td>0</td>\n",
       "      <td>Indian  business  tycoon  Ratan  Tata  said  t...</td>\n",
       "      <td>0</td>\n",
       "      <td>0</td>\n",
       "      <td>14</td>\n",
       "      <td>0</td>\n",
       "    </tr>\n",
       "    <tr>\n",
       "      <th>10</th>\n",
       "      <td>1</td>\n",
       "      <td>Our  4  pm  update  is  published.  The  US  h...</td>\n",
       "      <td>1</td>\n",
       "      <td>0</td>\n",
       "      <td>48</td>\n",
       "      <td>0</td>\n",
       "    </tr>\n",
       "  </tbody>\n",
       "</table>\n",
       "</div>"
      ],
      "text/plain": [
       "    label                                             text_a  symbols  l&s  \\\n",
       "0       1  #Coronavirus:  Prime  Minister  Boris  Johnson...        1    0   \n",
       "1       0  Global  coronavirus  deaths  exceed  800000  h...        1    1   \n",
       "2       1  The  US  has  the  highest  number  of  #COVID...        1    0   \n",
       "3       1  Many  more  cities  and  states  will  start  ...        1    0   \n",
       "4       1  #IndiaFightsCorona:  Japan  commits  Rs  3500 ...        1    0   \n",
       "5       0  doctors  and  nurses  in  medical  uniforms  l...        0    0   \n",
       "6       0  COVID-19:  Man  Insisting  That  He  Will  'Di...        1    1   \n",
       "7       1  There  are  37  people  isolating  in  the  Au...        0    0   \n",
       "8       1  Florida  also  had  a  major  problem  with  a...        1    0   \n",
       "9       0  Indian  business  tycoon  Ratan  Tata  said  t...        0    0   \n",
       "10      1  Our  4  pm  update  is  published.  The  US  h...        1    0   \n",
       "\n",
       "    word_num  emoji  \n",
       "0         22      0  \n",
       "1          6      0  \n",
       "2         27      0  \n",
       "3         24      0  \n",
       "4         30      0  \n",
       "5         15      0  \n",
       "6         13      0  \n",
       "7         27      0  \n",
       "8         21      0  \n",
       "9         14      0  \n",
       "10        48      0  "
      ]
     },
     "execution_count": 25,
     "metadata": {},
     "output_type": "execute_result"
    }
   ],
   "source": [
    "train.head(11)"
   ]
  },
  {
   "cell_type": "code",
   "execution_count": 26,
   "metadata": {},
   "outputs": [
    {
     "data": {
      "text/plain": [
       "41"
      ]
     },
     "execution_count": 26,
     "metadata": {},
     "output_type": "execute_result"
    }
   ],
   "source": [
    "len(train[(train['emoji']==1) & (train['label']==0)])"
   ]
  },
  {
   "cell_type": "markdown",
   "metadata": {},
   "source": [
    "Now that we have familiarized ourselves with the data somewhat we can start working on an algorithm. Defined below is a general overview off our workflow.\n",
    "- **Work Flow**\n",
    "\n",
    "    - Data pre processing\n",
    "    - Train Test split, already done\n",
    "    - Logistic Regression model (always good for binary classification)\n",
    "    - Naive Bayes\n",
    "    - Feed test data to our model and analyze accuracy"
   ]
  },
  {
   "cell_type": "markdown",
   "metadata": {},
   "source": [
    "## PRE-PROCESSING ##"
   ]
  },
  {
   "cell_type": "markdown",
   "metadata": {},
   "source": [
    "Before any training is done, we must process our data. This is due to the data being noisy and some information may even be missing. We first check all the articles for missing values, as we have little to gain from them and would have to handle them by either filling them in or removing them. Luckily our data has no missing values. We decided we prefer having the label for fake news to be 1, so the next step was to flip the labels in the given data. After that we just split the labels into a separate vector so as to truly work only with unlabeled data.\n",
    "- **Switched label 0->1, 1->0**\n",
    "    - **1: Fake news, 0: Real news**"
   ]
  },
  {
   "cell_type": "code",
   "execution_count": 27,
   "metadata": {},
   "outputs": [],
   "source": [
    "train_reversed_label = train.copy(deep=True)\n",
    "test_reversed_label = test.copy(deep=True)"
   ]
  },
  {
   "cell_type": "code",
   "execution_count": 28,
   "metadata": {},
   "outputs": [],
   "source": [
    "train_reversed_label['label']=train_reversed_label['label'].apply(lambda x: 0 if(x==1) else 1).values\n",
    "test_reversed_label['label']=test_reversed_label['label'].apply(lambda x: 0 if(x==1) else 1).values"
   ]
  },
  {
   "cell_type": "code",
   "execution_count": 29,
   "metadata": {},
   "outputs": [],
   "source": [
    "#train_reversed_label = train_reversed_label.drop(columns=['symbols','l&s','word_num', 'emoji'], axis = 1)"
   ]
  },
  {
   "cell_type": "code",
   "execution_count": 30,
   "metadata": {},
   "outputs": [],
   "source": [
    "#train_reversed_label"
   ]
  },
  {
   "cell_type": "code",
   "execution_count": 31,
   "metadata": {},
   "outputs": [],
   "source": [
    "#test_reversed_label"
   ]
  },
  {
   "cell_type": "code",
   "execution_count": 32,
   "metadata": {},
   "outputs": [],
   "source": [
    "#print(stopwords.words('english'))"
   ]
  },
  {
   "cell_type": "markdown",
   "metadata": {},
   "source": [
    "**Check for missing data**"
   ]
  },
  {
   "cell_type": "code",
   "execution_count": 33,
   "metadata": {},
   "outputs": [
    {
     "data": {
      "text/plain": [
       "label       0\n",
       "text_a      0\n",
       "symbols     0\n",
       "l&s         0\n",
       "word_num    0\n",
       "emoji       0\n",
       "dtype: int64"
      ]
     },
     "execution_count": 33,
     "metadata": {},
     "output_type": "execute_result"
    }
   ],
   "source": [
    "train_reversed_label.isnull().sum()"
   ]
  },
  {
   "cell_type": "markdown",
   "metadata": {},
   "source": [
    "**Separating the data: label and text in different arrays**"
   ]
  },
  {
   "cell_type": "code",
   "execution_count": 34,
   "metadata": {},
   "outputs": [],
   "source": [
    "X = train_reversed_label.drop('label', axis=1)\n",
    "Y = train_reversed_label['label']\n",
    "X_test = test_reversed_label.drop('label', axis=1)\n",
    "Y_test = test_reversed_label['label']"
   ]
  },
  {
   "cell_type": "code",
   "execution_count": 35,
   "metadata": {},
   "outputs": [],
   "source": [
    "#text_processing_X = train_reversed_label.drop('label', axis=1)\n",
    "#text_processing_Y = train_reversed_label['label']\n",
    "\n",
    "#text_processing_X_test = test_reversed_label.drop('label', axis=1)\n",
    "#text_processing_Y_test = test_reversed_label['label']\n",
    "\n",
    "#text_processing_X = text_processing_X.append(text_processing_X_test)\n",
    "#text_processing_Y = text_processing_Y.append(text_processing_Y_test)"
   ]
  },
  {
   "cell_type": "code",
   "execution_count": 36,
   "metadata": {},
   "outputs": [],
   "source": [
    "#print(X)\n",
    "#print(Y)\n",
    "#print(X_test)\n",
    "#print(Y_test)\n",
    "\n",
    "#print(text_processing_Y)"
   ]
  },
  {
   "cell_type": "markdown",
   "metadata": {},
   "source": [
    "At this point we are ready to process our actual unlabeled data. Since it is in text form rather than numeric, which is the only form ML alogithms can understand, we will have to convert it but not before stemming the data first.\n",
    "Stemming, is the process of reducing a word to its root. For example the words actor, actress and acting are all reduced to act. This greatly increases the efficiency of our algorithm as it reduces redundancy due to different words carrying the same general context. In this step we also remove links and stopwords from the text as they carry little to no significance. \n",
    "- **Preparing/cleaning the data**\n",
    "    - stemming (swimming, swimmer -> swim) reduce the word to the root word\n",
    "    - convert text to numerical data\n",
    "    - convert all letters to lower ones\n",
    "    - remove links, emojis"
   ]
  },
  {
   "cell_type": "code",
   "execution_count": 37,
   "metadata": {},
   "outputs": [],
   "source": [
    "port_stem = PorterStemmer()"
   ]
  },
  {
   "cell_type": "code",
   "execution_count": 38,
   "metadata": {},
   "outputs": [],
   "source": [
    "def stemming(content):\n",
    "    stemmed_content = re.sub(r'http\\S+',' ', content)\n",
    "    stemmed_content = re.sub('[^a-zA-Z]',' ', content)\n",
    "    stemmed_content = stemmed_content.lower()\n",
    "    stemmed_content = stemmed_content.split()\n",
    "    stemmed_content = [port_stem.stem(word) for word in stemmed_content if not word in stopwords.words('english')]\n",
    "    stemmed_content = ' '.join(stemmed_content)\n",
    "    return stemmed_content"
   ]
  },
  {
   "cell_type": "code",
   "execution_count": 39,
   "metadata": {},
   "outputs": [],
   "source": [
    "X = X['text_a'].apply(stemming)"
   ]
  },
  {
   "cell_type": "code",
   "execution_count": 40,
   "metadata": {},
   "outputs": [],
   "source": [
    "X_test = X_test['text_a'].apply(stemming)"
   ]
  },
  {
   "cell_type": "markdown",
   "metadata": {},
   "source": [
    "**Convert text to numerical values**\n",
    "Next we convert the text data to numeric values using the TfidfVectorizer class. This turns our collection of text documents into numerical feature vectors. Tf-idf is short for term frequency times inverse document frequency meaning the vectorization of words takes into account how often the words appear in separate documents as well as overall occurences. Calling the transform function returns a Tf-idf-weighted document-term matrix."
   ]
  },
  {
   "cell_type": "markdown",
   "metadata": {},
   "source": [
    "**We put the training and test data together**"
   ]
  },
  {
   "cell_type": "code",
   "execution_count": 41,
   "metadata": {},
   "outputs": [],
   "source": [
    "X = X.append(X_test)\n",
    "Y = Y.append(Y_test)\n",
    "\n",
    "text_processing_X = X.copy(deep=True)\n",
    "text_processing_Y = Y.copy(deep=True)"
   ]
  },
  {
   "cell_type": "code",
   "execution_count": 42,
   "metadata": {},
   "outputs": [],
   "source": [
    "a=dict( sorted(word_count(X).items(), key=operator.itemgetter(1),reverse=True))\n",
    "b = {k: a[k] for k in list(a)[:20]}"
   ]
  },
  {
   "cell_type": "code",
   "execution_count": 43,
   "metadata": {},
   "outputs": [
    {
     "data": {
      "image/png": "[encoded data removed]",
      "text/plain": [
       "<Figure size 1296x504 with 1 Axes>"
      ]
     },
     "metadata": {
      "needs_background": "light"
     },
     "output_type": "display_data"
    }
   ],
   "source": [
    "names = list(b.keys())\n",
    "values = list(b.values())\n",
    "plt.figure(figsize=(18,7))\n",
    "plt.bar(range(len(b)), values, tick_label=names, color=(0.2, 0.4, 0.6, 0.6))\n",
    "plt.show()"
   ]
  },
  {
   "cell_type": "code",
   "execution_count": 44,
   "metadata": {},
   "outputs": [],
   "source": [
    "vectorizer = TfidfVectorizer()\n",
    "vectorizer.fit(X)\n",
    "\n",
    "X = vectorizer.transform(X)"
   ]
  },
  {
   "cell_type": "code",
   "execution_count": 45,
   "metadata": {},
   "outputs": [],
   "source": [
    "#print(X)\n",
    "#vectorizer2 = TfidfVectorizer()\n",
    "#vectorizer2.fit(X_test)\n",
    "#X_test = vectorizer2.transform(X_test)"
   ]
  },
  {
   "cell_type": "code",
   "execution_count": 46,
   "metadata": {},
   "outputs": [],
   "source": [
    "#print(X_test)"
   ]
  },
  {
   "cell_type": "code",
   "execution_count": 47,
   "metadata": {},
   "outputs": [],
   "source": [
    "X_train, X_test, Y_train, Y_test = train_test_split(X,Y, test_size = 0.3, stratify=Y, random_state=2)"
   ]
  },
  {
   "cell_type": "code",
   "execution_count": 48,
   "metadata": {},
   "outputs": [],
   "source": [
    "DT_X = X\n",
    "DT_Y = Y"
   ]
  },
  {
   "cell_type": "markdown",
   "metadata": {},
   "source": [
    "After we have processed the data it is time to train some models. The models we tried are: logistic regression, multinomial naive bayes, k nearest neighbors, and random forests.\n",
    "For each section we have included the execution time and a table which shows the F1 score and classification accuracy of the trained model."
   ]
  },
  {
   "cell_type": "markdown",
   "metadata": {},
   "source": [
    "## Logistic Regression ##"
   ]
  },
  {
   "cell_type": "markdown",
   "metadata": {},
   "source": [
    "The first model we will be using is logistic regression. We chose it because we are solving a binary classification problem and it is a common and simple model for binary classification problems. It achieved a classification accuracy of 0.9648 on the training set and 0.9288 on the test set. The training time was 0.121s.\n",
    "(For more detailed results see table below)"
   ]
  },
  {
   "cell_type": "code",
   "execution_count": 49,
   "metadata": {},
   "outputs": [],
   "source": [
    "model = LogisticRegression()"
   ]
  },
  {
   "cell_type": "code",
   "execution_count": 50,
   "metadata": {},
   "outputs": [
    {
     "name": "stdout",
     "output_type": "stream",
     "text": [
      "training time: 0.186 s\n",
      "predict time: 0.001 s\n"
     ]
    }
   ],
   "source": [
    "start = time.time()\n",
    "model.fit(X_train, Y_train)\n",
    "end = time.time()\n",
    "print(\"training time:\", round(end-start, 3), \"s\")\n",
    "start = time.time()\n",
    "X_prediction = model.predict(X_train)\n",
    "end = time.time()\n",
    "print(\"predict time:\", round(end-start, 3), \"s\")"
   ]
  },
  {
   "cell_type": "markdown",
   "metadata": {},
   "source": [
    "**Evaluation: Accuracy score**"
   ]
  },
  {
   "cell_type": "code",
   "execution_count": 51,
   "metadata": {},
   "outputs": [],
   "source": [
    "#Accuracy score on training data\n",
    "\n",
    "train_data_accuracy = accuracy_score(X_prediction, Y_train)"
   ]
  },
  {
   "cell_type": "code",
   "execution_count": 52,
   "metadata": {
    "scrolled": true
   },
   "outputs": [
    {
     "name": "stdout",
     "output_type": "stream",
     "text": [
      "Accuracy training data:  0.9647614230315292\n"
     ]
    }
   ],
   "source": [
    "print('Accuracy training data: ', train_data_accuracy)"
   ]
  },
  {
   "cell_type": "code",
   "execution_count": 53,
   "metadata": {
    "scrolled": true
   },
   "outputs": [],
   "source": [
    "#Accuracy score on test data\n",
    "X_test_prediction = model.predict(X_test)\n",
    "test_data_accuracy = accuracy_score(X_test_prediction, Y_test)"
   ]
  },
  {
   "cell_type": "code",
   "execution_count": 54,
   "metadata": {},
   "outputs": [
    {
     "name": "stdout",
     "output_type": "stream",
     "text": [
      "Accuracy test data:  0.9287962234461055\n"
     ]
    }
   ],
   "source": [
    "print('Accuracy test data: ', test_data_accuracy)"
   ]
  },
  {
   "cell_type": "code",
   "execution_count": 55,
   "metadata": {},
   "outputs": [
    {
     "name": "stdout",
     "output_type": "stream",
     "text": [
      "[[1231  102]\n",
      " [  79 1130]]\n",
      "\n",
      "\n",
      "              precision    recall  f1-score   support\n",
      "\n",
      "           0       0.94      0.92      0.93      1333\n",
      "           1       0.92      0.93      0.93      1209\n",
      "\n",
      "    accuracy                           0.93      2542\n",
      "   macro avg       0.93      0.93      0.93      2542\n",
      "weighted avg       0.93      0.93      0.93      2542\n",
      "\n"
     ]
    }
   ],
   "source": [
    "print(confusion_matrix(Y_test,X_test_prediction))\n",
    "print('\\n')\n",
    "print(classification_report(Y_test,X_test_prediction))"
   ]
  },
  {
   "cell_type": "markdown",
   "metadata": {},
   "source": [
    "## Multinomial Naive Bayes ##"
   ]
  },
  {
   "cell_type": "markdown",
   "metadata": {},
   "source": [
    "The second model we will be using is multinomial naive bayes. It achieved a classification accuracy of 0.91 on the test set. The training time was 0.0025s.\n",
    "(For more detailed results see table below)"
   ]
  },
  {
   "cell_type": "code",
   "execution_count": 56,
   "metadata": {},
   "outputs": [],
   "source": [
    "from sklearn.naive_bayes import MultinomialNB\n",
    "nb = MultinomialNB()"
   ]
  },
  {
   "cell_type": "markdown",
   "metadata": {},
   "source": [
    "**Fitting**"
   ]
  },
  {
   "cell_type": "code",
   "execution_count": 57,
   "metadata": {},
   "outputs": [
    {
     "name": "stdout",
     "output_type": "stream",
     "text": [
      "training time: 0.00400209 s\n",
      "predict time: 0.00150013 s\n"
     ]
    }
   ],
   "source": [
    "start = time.time()\n",
    "nb.fit(X_train,Y_train)\n",
    "end = time.time()\n",
    "print(\"training time:\", round(end-start, 8), \"s\")\n",
    "start = time.time()\n",
    "predictions = nb.predict(X_test)\n",
    "end = time.time()\n",
    "print(\"predict time:\", round(end-start, 8), \"s\")"
   ]
  },
  {
   "cell_type": "markdown",
   "metadata": {},
   "source": [
    "**Predictions and Evaluations**"
   ]
  },
  {
   "cell_type": "code",
   "execution_count": 58,
   "metadata": {
    "scrolled": true
   },
   "outputs": [
    {
     "name": "stdout",
     "output_type": "stream",
     "text": [
      "[[1270   63]\n",
      " [ 163 1046]]\n",
      "\n",
      "\n",
      "              precision    recall  f1-score   support\n",
      "\n",
      "           0       0.89      0.95      0.92      1333\n",
      "           1       0.94      0.87      0.90      1209\n",
      "\n",
      "    accuracy                           0.91      2542\n",
      "   macro avg       0.91      0.91      0.91      2542\n",
      "weighted avg       0.91      0.91      0.91      2542\n",
      "\n"
     ]
    }
   ],
   "source": [
    "print(confusion_matrix(Y_test,predictions))\n",
    "print('\\n')\n",
    "print(classification_report(Y_test,predictions))"
   ]
  },
  {
   "cell_type": "markdown",
   "metadata": {},
   "source": [
    "## Including TF-IDF with pipeline ##"
   ]
  },
  {
   "cell_type": "markdown",
   "metadata": {},
   "source": [
    "We decided to try adding TD-IDF to naive bayes using a pipeline. This lead to a decrease in classification accuracy to 0.90 and an increase in training time to 0.102 seconds."
   ]
  },
  {
   "cell_type": "code",
   "execution_count": 62,
   "metadata": {},
   "outputs": [],
   "source": [
    "from sklearn.feature_extraction.text import TfidfTransformer\n",
    "from sklearn.pipeline import Pipeline"
   ]
  },
  {
   "cell_type": "code",
   "execution_count": 63,
   "metadata": {},
   "outputs": [],
   "source": [
    "from sklearn.feature_extraction.text import CountVectorizer\n",
    "cv = CountVectorizer()"
   ]
  },
  {
   "cell_type": "code",
   "execution_count": 64,
   "metadata": {},
   "outputs": [],
   "source": [
    "pipeline = Pipeline([\n",
    "    ('bow', CountVectorizer()),  # strings to token integer counts\n",
    "    ('tfidf', TfidfTransformer()),  # integer counts to weighted TF-IDF scores\n",
    "    ('classifier', MultinomialNB()),  # train on TF-IDF vectors w/ Naive Bayes classifier\n",
    "])"
   ]
  },
  {
   "cell_type": "code",
   "execution_count": 65,
   "metadata": {},
   "outputs": [],
   "source": [
    "X_train, X_test, y_train, y_test = train_test_split(text_processing_X, text_processing_Y,test_size=0.3,random_state=101)"
   ]
  },
  {
   "cell_type": "code",
   "execution_count": 66,
   "metadata": {},
   "outputs": [
    {
     "name": "stdout",
     "output_type": "stream",
     "text": [
      "training time: 0.11327481 s\n",
      "predict time: 0.03653073 s\n"
     ]
    }
   ],
   "source": [
    "start = time.time()\n",
    "pipeline.fit(X_train,y_train)\n",
    "end = time.time()\n",
    "print(\"training time:\", round(end-start, 8), \"s\")\n",
    "start = time.time()\n",
    "predictions = pipeline.predict(X_test)\n",
    "end = time.time()\n",
    "print(\"predict time:\", round(end-start, 8), \"s\")"
   ]
  },
  {
   "cell_type": "code",
   "execution_count": 67,
   "metadata": {},
   "outputs": [
    {
     "name": "stdout",
     "output_type": "stream",
     "text": [
      "[[1261   61]\n",
      " [ 191 1029]]\n",
      "              precision    recall  f1-score   support\n",
      "\n",
      "           0       0.87      0.95      0.91      1322\n",
      "           1       0.94      0.84      0.89      1220\n",
      "\n",
      "    accuracy                           0.90      2542\n",
      "   macro avg       0.91      0.90      0.90      2542\n",
      "weighted avg       0.90      0.90      0.90      2542\n",
      "\n"
     ]
    }
   ],
   "source": [
    "print(confusion_matrix(y_test,predictions))\n",
    "print(classification_report(y_test,predictions))"
   ]
  },
  {
   "cell_type": "markdown",
   "metadata": {},
   "source": [
    "**Looks like Tf-Idf actually made things worse**"
   ]
  },
  {
   "cell_type": "markdown",
   "metadata": {},
   "source": [
    "## Decision Tree ##\n",
    "For our last ML method we decide to try a very simple model to compare to the others. The desicion tree took 0.454s to build and achieved a classification accuracy of 0.88."
   ]
  },
  {
   "cell_type": "code",
   "execution_count": 68,
   "metadata": {},
   "outputs": [],
   "source": [
    "from sklearn.tree import DecisionTreeClassifier"
   ]
  },
  {
   "cell_type": "code",
   "execution_count": 69,
   "metadata": {},
   "outputs": [],
   "source": [
    "dtree = DecisionTreeClassifier()"
   ]
  },
  {
   "cell_type": "code",
   "execution_count": 70,
   "metadata": {},
   "outputs": [],
   "source": [
    "X_train, X_test, y_train, y_test = train_test_split(DT_X, DT_Y, test_size=0.30, random_state=101)"
   ]
  },
  {
   "cell_type": "code",
   "execution_count": 71,
   "metadata": {},
   "outputs": [
    {
     "name": "stdout",
     "output_type": "stream",
     "text": [
      "training time: 0.46139479 s\n",
      "predict time: 0.00350308 s\n"
     ]
    }
   ],
   "source": [
    "start = time.time()\n",
    "dtree.fit(X_train,y_train)\n",
    "end = time.time()\n",
    "print(\"training time:\", round(end-start, 8), \"s\")\n",
    "start = time.time()\n",
    "predictions = dtree.predict(X_test)\n",
    "end = time.time()\n",
    "print(\"predict time:\", round(end-start, 8), \"s\")"
   ]
  },
  {
   "cell_type": "markdown",
   "metadata": {},
   "source": [
    "**Predictions**"
   ]
  },
  {
   "cell_type": "code",
   "execution_count": 72,
   "metadata": {},
   "outputs": [
    {
     "name": "stdout",
     "output_type": "stream",
     "text": [
      "              precision    recall  f1-score   support\n",
      "\n",
      "           0       0.87      0.89      0.88      1322\n",
      "           1       0.88      0.86      0.87      1220\n",
      "\n",
      "    accuracy                           0.88      2542\n",
      "   macro avg       0.88      0.88      0.88      2542\n",
      "weighted avg       0.88      0.88      0.88      2542\n",
      "\n"
     ]
    }
   ],
   "source": [
    "print(classification_report(y_test,predictions))"
   ]
  },
  {
   "cell_type": "code",
   "execution_count": 73,
   "metadata": {},
   "outputs": [
    {
     "name": "stdout",
     "output_type": "stream",
     "text": [
      "[[1177  145]\n",
      " [ 169 1051]]\n"
     ]
    }
   ],
   "source": [
    "print(confusion_matrix(y_test,predictions))"
   ]
  },
  {
   "cell_type": "markdown",
   "metadata": {},
   "source": [
    "## Random forest ##\n",
    "We also wanted to try solving the problem using random forests. These are an ensemble learning method for classification, regression and other tasks that operates by constructing a multitude of decision trees at training time. For classification tasks like this one, the output of the random forest is the class selected by most trees.\n",
    "The forest took a long time to build with a training time of 37.33s but nevertheless, it achieved the highest classification accuracy of 0.93."
   ]
  },
  {
   "cell_type": "code",
   "execution_count": 74,
   "metadata": {},
   "outputs": [],
   "source": [
    "from sklearn.ensemble import RandomForestClassifier"
   ]
  },
  {
   "cell_type": "code",
   "execution_count": 75,
   "metadata": {},
   "outputs": [],
   "source": [
    "rfc = RandomForestClassifier(n_estimators=600)"
   ]
  },
  {
   "cell_type": "code",
   "execution_count": 76,
   "metadata": {},
   "outputs": [
    {
     "name": "stdout",
     "output_type": "stream",
     "text": [
      "training time: 37.40861082 s\n",
      "predict time: 0.42586493 s\n"
     ]
    }
   ],
   "source": [
    "start = time.time()\n",
    "rfc.fit(X_train,y_train)\n",
    "end = time.time()\n",
    "print(\"training time:\", round(end-start, 8), \"s\")\n",
    "start = time.time()\n",
    "predictions = rfc.predict(X_test)\n",
    "end = time.time()\n",
    "print(\"predict time:\", round(end-start, 8), \"s\")"
   ]
  },
  {
   "cell_type": "markdown",
   "metadata": {},
   "source": [
    "**Predictions**"
   ]
  },
  {
   "cell_type": "code",
   "execution_count": 77,
   "metadata": {},
   "outputs": [
    {
     "name": "stdout",
     "output_type": "stream",
     "text": [
      "              precision    recall  f1-score   support\n",
      "\n",
      "           0       0.93      0.93      0.93      1322\n",
      "           1       0.93      0.93      0.93      1220\n",
      "\n",
      "    accuracy                           0.93      2542\n",
      "   macro avg       0.93      0.93      0.93      2542\n",
      "weighted avg       0.93      0.93      0.93      2542\n",
      "\n"
     ]
    }
   ],
   "source": [
    "print(classification_report(y_test,predictions))"
   ]
  },
  {
   "cell_type": "code",
   "execution_count": 78,
   "metadata": {},
   "outputs": [
    {
     "name": "stdout",
     "output_type": "stream",
     "text": [
      "[[1236   86]\n",
      " [  90 1130]]\n"
     ]
    }
   ],
   "source": [
    "print(confusion_matrix(y_test,predictions))"
   ]
  },
  {
   "cell_type": "markdown",
   "metadata": {},
   "source": [
    "## KNN ##\n",
    "Lastly, we tried using the k-nearest neighbors method to solve our classification problem. This yielded a classification accuracy of 0.90 with a really fast training time of 0.001s but a relatively slow prediction time of 0.39s. We tried various values of K to optimize the result(see image below)."
   ]
  },
  {
   "cell_type": "code",
   "execution_count": 79,
   "metadata": {},
   "outputs": [],
   "source": [
    "from sklearn.neighbors import KNeighborsClassifier"
   ]
  },
  {
   "cell_type": "code",
   "execution_count": 80,
   "metadata": {},
   "outputs": [],
   "source": [
    "knn = KNeighborsClassifier(n_neighbors=3)"
   ]
  },
  {
   "cell_type": "code",
   "execution_count": 81,
   "metadata": {},
   "outputs": [
    {
     "name": "stdout",
     "output_type": "stream",
     "text": [
      "training time: 0.0010004 s\n",
      "predict time: 0.33728886 s\n"
     ]
    }
   ],
   "source": [
    "start = time.time()\n",
    "knn.fit(X_train,y_train)\n",
    "end = time.time()\n",
    "print(\"training time:\", round(end-start, 8), \"s\")\n",
    "start = time.time()\n",
    "pred = knn.predict(X_test)\n",
    "end = time.time()\n",
    "print(\"predict time:\", round(end-start, 8), \"s\")"
   ]
  },
  {
   "cell_type": "code",
   "execution_count": 82,
   "metadata": {},
   "outputs": [
    {
     "name": "stdout",
     "output_type": "stream",
     "text": [
      "              precision    recall  f1-score   support\n",
      "\n",
      "           0       0.91      0.89      0.90      1322\n",
      "           1       0.88      0.91      0.90      1220\n",
      "\n",
      "    accuracy                           0.90      2542\n",
      "   macro avg       0.90      0.90      0.90      2542\n",
      "weighted avg       0.90      0.90      0.90      2542\n",
      "\n"
     ]
    }
   ],
   "source": [
    "print(classification_report(y_test,pred))"
   ]
  },
  {
   "cell_type": "markdown",
   "metadata": {},
   "source": [
    "**Choosing K value**"
   ]
  },
  {
   "cell_type": "code",
   "execution_count": 183,
   "metadata": {},
   "outputs": [],
   "source": [
    "error_rate = []\n",
    "\n",
    "# Will take some time\n",
    "for i in range(1,40):\n",
    "    \n",
    "    knn = KNeighborsClassifier(n_neighbors=i)\n",
    "    knn.fit(X_train,y_train)\n",
    "    pred_i = knn.predict(X_test)\n",
    "    error_rate.append(np.mean(pred_i != y_test))"
   ]
  },
  {
   "cell_type": "code",
   "execution_count": 184,
   "metadata": {
    "scrolled": true
   },
   "outputs": [
    {
     "data": {
      "text/plain": [
       "Text(0, 0.5, 'Error Rate')"
      ]
     },
     "execution_count": 184,
     "metadata": {},
     "output_type": "execute_result"
    },
    {
     "data": {
      "image/png": "[encoded data removed]",
      "text/plain": [
       "<Figure size 720x432 with 1 Axes>"
      ]
     },
     "metadata": {
      "needs_background": "light"
     },
     "output_type": "display_data"
    }
   ],
   "source": [
    "plt.figure(figsize=(10,6))\n",
    "plt.plot(range(1,40),error_rate,color='blue', linestyle='dashed', marker='o',\n",
    "         markerfacecolor='red', markersize=10)\n",
    "plt.title('Error Rate vs. K Value')\n",
    "plt.xlabel('K')\n",
    "plt.ylabel('Error Rate')"
   ]
  },
  {
   "cell_type": "code",
   "execution_count": 185,
   "metadata": {},
   "outputs": [],
   "source": [
    "knn = KNeighborsClassifier(n_neighbors=14)"
   ]
  },
  {
   "cell_type": "code",
   "execution_count": 83,
   "metadata": {},
   "outputs": [
    {
     "name": "stdout",
     "output_type": "stream",
     "text": [
      "training time: 0.0011611 s\n",
      "predict time: 0.3111074 s\n"
     ]
    }
   ],
   "source": [
    "start = time.time()\n",
    "knn.fit(X_train,y_train)\n",
    "end = time.time()\n",
    "print(\"training time:\", round(end-start, 8), \"s\")\n",
    "start = time.time()\n",
    "pred = knn.predict(X_test)\n",
    "end = time.time()\n",
    "print(\"predict time:\", round(end-start, 8), \"s\")"
   ]
  },
  {
   "cell_type": "code",
   "execution_count": 84,
   "metadata": {
    "scrolled": true
   },
   "outputs": [
    {
     "name": "stdout",
     "output_type": "stream",
     "text": [
      "              precision    recall  f1-score   support\n",
      "\n",
      "           0       0.91      0.89      0.90      1322\n",
      "           1       0.88      0.91      0.90      1220\n",
      "\n",
      "    accuracy                           0.90      2542\n",
      "   macro avg       0.90      0.90      0.90      2542\n",
      "weighted avg       0.90      0.90      0.90      2542\n",
      "\n"
     ]
    }
   ],
   "source": [
    "print(classification_report(y_test,pred))"
   ]
  },
  {
   "cell_type": "code",
   "execution_count": 85,
   "metadata": {},
   "outputs": [
    {
     "name": "stdout",
     "output_type": "stream",
     "text": [
      "[[1178  144]\n",
      " [ 114 1106]]\n"
     ]
    }
   ],
   "source": [
    "print(confusion_matrix(y_test,pred))"
   ]
  },
  {
   "cell_type": "markdown",
   "metadata": {},
   "source": [
    "## Evaluation ##\n",
    "In the end, the random forest model was the most successful with a classification accuracy of 0.93. The tables below show our chosen models' performances in terms of time and in therms of accuracy.\n",
    "To summarize all the accuracies:\n",
    "\n",
    "| Model                 | Class. Accuracy | F1 Score |\n",
    "|-----------------------|-----------------|----------|\n",
    "| Logistic Regression   | 0.929           | 0.93     |\n",
    "| Multinom. Naive Bayes | 0.91            | 0.91     |\n",
    "| MNB with pipeline     | 0.90            | 0.90     |\n",
    "| Decision Tree         | 0.88            | 0.88     |\n",
    "| Random Forest         | 0.93            | 0.93     |\n",
    "| KNN                   | 0.90            | 0.90     |"
   ]
  },
  {
   "cell_type": "code",
   "execution_count": 110,
   "metadata": {},
   "outputs": [
    {
     "data": {
      "image/png": "[encoded data removed]",
      "text/plain": [
       "<Figure size 432x288 with 1 Axes>"
      ]
     },
     "metadata": {
      "needs_background": "light"
     },
     "output_type": "display_data"
    }
   ],
   "source": [
    "classAcc = [0.929,0.91,0.90,0.88,0.93,0.90,]\n",
    "names = ['Logistic Regression','Multinomial NB','Bow+TfIdf+MNB','Decision Tree','RF(n=600)','KNN(k=14)']\n",
    "f1Scores = [0.93,0.91, 0.90, 0.88, 0.93, 0.90]\n",
    "\n",
    "#plt.figure(figsize=(18,7))\n",
    "x = np.arange(len(names))\n",
    "width = 0.4\n",
    "\n",
    "fig, ax = plt.subplots()\n",
    "rects1 = ax.bar(x - 0.2, classAcc, width, label='Class Accuracy')\n",
    "rects2 = ax.bar(x + 0.2, f1Scores, width, label='F1 Score')\n",
    "\n",
    "ax.set_ylabel('Scores')\n",
    "ax.legend()\n",
    "\n",
    "fig.tight_layout()\n",
    "plt.show()"
   ]
  },
  {
   "cell_type": "code",
   "execution_count": 86,
   "metadata": {},
   "outputs": [],
   "source": [
    "Times = [['Logistic Regression', 0.119, 0.001 ],['Multinomial NB',0.0025, 0.00105 ],['Decision Tree', 0.45238, 0.002891],['Bow+TfIdf+MNB',0.10258, 0.03653], ['RF(n=600)', 37.5807 , 0.42586], ['KNN(k=14)', 0.0010, 0.3933]]"
   ]
  },
  {
   "cell_type": "code",
   "execution_count": 87,
   "metadata": {},
   "outputs": [],
   "source": [
    "dfTimes = pd.DataFrame(Times, columns = ['Model', 'Training time (s)', 'Prediction time (s)'])"
   ]
  },
  {
   "cell_type": "code",
   "execution_count": 88,
   "metadata": {
    "scrolled": true
   },
   "outputs": [
    {
     "data": {
      "text/html": [
       "<div>\n",
       "<style scoped>\n",
       "    .dataframe tbody tr th:only-of-type {\n",
       "        vertical-align: middle;\n",
       "    }\n",
       "\n",
       "    .dataframe tbody tr th {\n",
       "        vertical-align: top;\n",
       "    }\n",
       "\n",
       "    .dataframe thead th {\n",
       "        text-align: right;\n",
       "    }\n",
       "</style>\n",
       "<table border=\"1\" class=\"dataframe\">\n",
       "  <thead>\n",
       "    <tr style=\"text-align: right;\">\n",
       "      <th></th>\n",
       "      <th>Model</th>\n",
       "      <th>Training time (s)</th>\n",
       "      <th>Prediction time (s)</th>\n",
       "    </tr>\n",
       "  </thead>\n",
       "  <tbody>\n",
       "    <tr>\n",
       "      <th>0</th>\n",
       "      <td>Logistic Regression</td>\n",
       "      <td>0.11900</td>\n",
       "      <td>0.001000</td>\n",
       "    </tr>\n",
       "    <tr>\n",
       "      <th>1</th>\n",
       "      <td>Multinomial NB</td>\n",
       "      <td>0.00250</td>\n",
       "      <td>0.001050</td>\n",
       "    </tr>\n",
       "    <tr>\n",
       "      <th>2</th>\n",
       "      <td>Decision Tree</td>\n",
       "      <td>0.45238</td>\n",
       "      <td>0.002891</td>\n",
       "    </tr>\n",
       "    <tr>\n",
       "      <th>3</th>\n",
       "      <td>Bow+TfIdf+MNB</td>\n",
       "      <td>0.10258</td>\n",
       "      <td>0.036530</td>\n",
       "    </tr>\n",
       "    <tr>\n",
       "      <th>4</th>\n",
       "      <td>RF(n=600)</td>\n",
       "      <td>37.58070</td>\n",
       "      <td>0.425860</td>\n",
       "    </tr>\n",
       "    <tr>\n",
       "      <th>5</th>\n",
       "      <td>KNN(k=14)</td>\n",
       "      <td>0.00100</td>\n",
       "      <td>0.393300</td>\n",
       "    </tr>\n",
       "  </tbody>\n",
       "</table>\n",
       "</div>"
      ],
      "text/plain": [
       "                 Model  Training time (s)  Prediction time (s)\n",
       "0  Logistic Regression            0.11900             0.001000\n",
       "1       Multinomial NB            0.00250             0.001050\n",
       "2        Decision Tree            0.45238             0.002891\n",
       "3        Bow+TfIdf+MNB            0.10258             0.036530\n",
       "4            RF(n=600)           37.58070             0.425860\n",
       "5            KNN(k=14)            0.00100             0.393300"
      ]
     },
     "execution_count": 88,
     "metadata": {},
     "output_type": "execute_result"
    }
   ],
   "source": [
    "dfTimes"
   ]
  }
 ],
 "metadata": {
  "kernelspec": {
   "display_name": "Python 3",
   "language": "python",
   "name": "python3"
  },
  "language_info": {
   "codemirror_mode": {
    "name": "ipython",
    "version": 3
   },
   "file_extension": ".py",
   "mimetype": "text/x-python",
   "name": "python",
   "nbconvert_exporter": "python",
   "pygments_lexer": "ipython3",
   "version": "3.8.5"
  }
 },
 "nbformat": 4,
 "nbformat_minor": 4
}
